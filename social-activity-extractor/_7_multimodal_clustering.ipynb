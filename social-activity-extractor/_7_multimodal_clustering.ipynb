{
 "cells": [
  {
   "cell_type": "markdown",
   "metadata": {},
   "source": [
    "# Multimodal Clustering Analysis\n",
    "\n",
    "Sep 2019  \n",
    "Dongmin Kim\n",
    "[underkoo@kaist.ac.kr](mailto:underkoo@kaist.ac.kr)\n",
    "\n",
    "**Expected input data:**\n",
    "Process 900 dim latent feature of multi-modal instagram posts\n",
    "\n",
    "**What this script does:**  \n",
    "Explorative data analysis on the mult-modal latent. Checks for feature correlation (features = 900 dimesnsions), applies and visualized PCA, applies t-SNE on different data (raw, PCA, etc).\n"
   ]
  },
  {
   "cell_type": "code",
   "execution_count": null,
   "metadata": {},
   "outputs": [],
   "source": [
    "import matplotlib.pyplot as plt\n",
    "import matplotlib.font_manager as fm\n",
    "import numpy as np\n",
    "import pandas as pd\n",
    "import os\n",
    "import seaborn as sns; sns.set()\n",
    "from sklearn.decomposition import PCA\n",
    "from sklearn.manifold import TSNE\n",
    "from sklearn.metrics.pairwise import cosine_similarity\n",
    "from sklearn.cluster import SpectralClustering, AffinityPropagation, AgglomerativeClustering, KMeans\n",
    "import matplotlib.colors as colors\n",
    "import math\n",
    "import time\n",
    "import config"
   ]
  },
  {
   "cell_type": "code",
   "execution_count": null,
   "metadata": {},
   "outputs": [],
   "source": [
    "# magic line to have in-notebook interactive plots\n",
    "%matplotlib notebook"
   ]
  },
  {
   "cell_type": "code",
   "execution_count": null,
   "metadata": {},
   "outputs": [],
   "source": [
    "#If you want to use a korean words, unblock it!\n",
    "# path_gothic = './fonts/NanumBarunGothic.ttf'\n",
    "# fontprop1 = fm.FontProperties(fname=path_gothic, size=3)"
   ]
  },
  {
   "cell_type": "code",
   "execution_count": null,
   "metadata": {},
   "outputs": [],
   "source": [
    "CONFIG = config.Config"
   ]
  },
  {
   "cell_type": "markdown",
   "metadata": {},
   "source": [
    "## load latent feature"
   ]
  },
  {
   "cell_type": "code",
   "execution_count": null,
   "metadata": {},
   "outputs": [],
   "source": [
    "# load raw data\n",
    "target_dataset = 'instagram0830'\n",
    "df_data = pd.read_csv(os.path.join(CONFIG.CSV_PATH, 'latent_' + target_dataset + '.csv'), index_col=0, header=None, encoding='utf-8-sig')\n",
    "df_data.index.name = 'short_code'\n",
    "#data_all = pd.read_csv('data/2019_05_01_naver_word2vec/word2vecBLOG)_1000.csv.zip', index_col=0, header=None)\n",
    "print('complete csv shape: ' + str(df_data.shape))\n",
    "print(df_data)"
   ]
  },
  {
   "cell_type": "code",
   "execution_count": null,
   "metadata": {},
   "outputs": [],
   "source": [
    "print(df_data.describe())"
   ]
  },
  {
   "cell_type": "code",
   "execution_count": null,
   "metadata": {},
   "outputs": [],
   "source": [
    "# data seems to be well normalized to mean or median = 0 and std = 1\n",
    "plt.figure()\n",
    "df_data.boxplot()"
   ]
  },
  {
   "cell_type": "markdown",
   "metadata": {},
   "source": [
    "## compute similarity between features (feature correlation, etc)"
   ]
  },
  {
   "cell_type": "code",
   "execution_count": null,
   "metadata": {},
   "outputs": [],
   "source": [
    "# correlation of features\n",
    "df_corr = df_data.corr()"
   ]
  },
  {
   "cell_type": "code",
   "execution_count": null,
   "metadata": {},
   "outputs": [],
   "source": [
    "# plot CC\n",
    "plt.figure()\n",
    "fig = sns.heatmap(df_corr, cmap=sns.color_palette(\"coolwarm\", 7))\n",
    "fig.set_yticklabels(fig.get_yticklabels(), rotation=0)\n",
    "plt.title('CC of features')"
   ]
  },
  {
   "cell_type": "code",
   "execution_count": null,
   "metadata": {},
   "outputs": [],
   "source": [
    "# pairwise cosine distance \n",
    "df_cosine = cosine_similarity(df_data.transpose())"
   ]
  },
  {
   "cell_type": "code",
   "execution_count": null,
   "metadata": {},
   "outputs": [],
   "source": [
    "# plot heatmap: cosine\n",
    "plt.figure()\n",
    "fig = sns.heatmap(df_cosine, cmap=sns.color_palette(\"coolwarm\", 7))\n",
    "fig.set_yticklabels(fig.get_yticklabels(), rotation=0)\n",
    "plt.title('pairwise cosine distance of features')"
   ]
  },
  {
   "cell_type": "code",
   "execution_count": null,
   "metadata": {},
   "outputs": [],
   "source": [
    "# pairwise cosine and dotproduct of columns\n",
    "# pairwise dotproduct has no normalization whatsoever: might help in not making two small numbers too similar\n",
    "df_dotproduct = np.zeros((df_data.shape[1], df_data.shape[1]))\n",
    "for xpos in range(df_data.shape[1]):\n",
    "    for ypos in range(xpos, df_data.shape[1]):\n",
    "        df_dotproduct[ypos, xpos] = (df_data.iloc[:, xpos] * df_data.iloc[:, ypos]).mean()\n",
    "# make DF out of it\n",
    "df_dotproduct = pd.DataFrame(df_dotproduct)\n",
    "df_dotproduct.columns = df_data.columns\n",
    "df_dotproduct.index = df_data.columns"
   ]
  },
  {
   "cell_type": "code",
   "execution_count": null,
   "metadata": {},
   "outputs": [],
   "source": [
    "# plot heatmap: dotproduct\n",
    "plt.figure()\n",
    "fig = sns.heatmap(df_dotproduct, cmap=sns.color_palette(\"coolwarm\", 7))\n",
    "fig.set_yticklabels(fig.get_yticklabels(), rotation=0)\n",
    "plt.title('pairwise dotproduct of features')"
   ]
  },
  {
   "cell_type": "markdown",
   "metadata": {},
   "source": [
    "## PCA as dimensionality reduction"
   ]
  },
  {
   "cell_type": "code",
   "execution_count": null,
   "metadata": {},
   "outputs": [],
   "source": [
    "# PCA\n",
    "pca = PCA(n_components=200) # 40 with instagram\n",
    "df_pca_data = pd.DataFrame(pca.fit_transform(df_data))\n",
    "df_pca_data.columns = ['PC' + str(i) for i in range(df_pca_data.shape[1])]\n",
    "df_pca_data.index = df_data.index\n",
    "print('singular_values_:\\n' + str(pca.singular_values_))\n",
    "print('components_:\\n' + str(pca.components_))\n",
    "\n",
    "# create PCA transformation DF\n",
    "df_pca_transformation = pd.DataFrame(pca.components_).transpose()\n",
    "df_pca_transformation.columns = ['PC' + str(i) for i in range(1, pca.n_components_ + 1)]\n",
    "df_pca_transformation.index = df_data.columns\n",
    "#print(df_pca_transformation)"
   ]
  },
  {
   "cell_type": "code",
   "execution_count": null,
   "metadata": {},
   "outputs": [],
   "source": [
    "# PCA: plot variance explained\n",
    "plt.figure()\n",
    "plt.plot(pca.explained_variance_ratio_, marker='o', linestyle=':')\n",
    "plt.title('PCA: explained variance')\n",
    "\n",
    "plt.figure()\n",
    "plt.plot(np.cumsum(pca.explained_variance_ratio_), marker='o', linestyle=':')\n",
    "plt.title('PCA: cumulative explained variance')"
   ]
  },
  {
   "cell_type": "code",
   "execution_count": null,
   "metadata": {},
   "outputs": [],
   "source": [
    "# print pca data\n",
    "plt.figure()\n",
    "fig=sns.heatmap(df_pca_data, cmap=sns.color_palette(\"coolwarm\", 7))\n",
    "#fig.set_yticklabels(fig.get_yticklabels(), rotation=0)"
   ]
  },
  {
   "cell_type": "code",
   "execution_count": null,
   "metadata": {},
   "outputs": [],
   "source": [
    "# print df_pca_transformation\n",
    "plt.figure()\n",
    "fig=sns.heatmap(df_pca_transformation, cmap=sns.color_palette(\"coolwarm\", 7))\n",
    "fig.set_yticklabels(fig.get_yticklabels(), rotation=0)"
   ]
  },
  {
   "cell_type": "code",
   "execution_count": null,
   "metadata": {},
   "outputs": [],
   "source": [
    "def scatterplot_pointlabels(df_twocols, plot_labels=True, markersize=None):\n",
    "    # basic scatterplot\n",
    "    fig = plt.figure()\n",
    "    plt.plot(df_twocols.iloc[:, 0], df_twocols.iloc[:, 1], marker='.', linestyle='None', markersize=markersize)"
   ]
  },
  {
   "cell_type": "code",
   "execution_count": null,
   "metadata": {},
   "outputs": [],
   "source": [
    "# plot PC dimensions\n",
    "for dimen1 in range(0, 5):\n",
    "    for dimen2 in range(dimen1 + 1, 5):\n",
    "        # subset dataframe to the PC columns we need\n",
    "        df_tmp = df_pca_data.iloc[:, [dimen1, dimen2]]\n",
    "        \n",
    "        # plot without labels\n",
    "        scatterplot_pointlabels(df_tmp, plot_labels=False)\n",
    "        # plt.title(df_tmp.columns)\n",
    "        plt.xlabel(df_tmp.columns[0])\n",
    "        plt.ylabel(df_tmp.columns[1])\n",
    "        \n",
    "        # plot with labels\n",
    "        #scatterplot_pointlabels(df_tmp)\n",
    "        # plt.title(df_tmp.columns)\n",
    "        #plt.xlabel(df_tmp.columns[0])\n",
    "        #plt.ylabel(df_tmp.columns[1])"
   ]
  },
  {
   "cell_type": "markdown",
   "metadata": {},
   "source": [
    "## t-SNE"
   ]
  },
  {
   "cell_type": "code",
   "execution_count": null,
   "metadata": {},
   "outputs": [],
   "source": [
    "def do_tsne(tsne_object, data_to_pass):\n",
    "    data_tsne = pd.DataFrame(tsne_object.fit_transform(data_to_pass))\n",
    "    data_tsne.index = data_to_pass.index\n",
    "    data_tsne.columns = [['tsne1', 'tsne2']]\n",
    "    return data_tsne"
   ]
  },
  {
   "cell_type": "code",
   "execution_count": null,
   "metadata": {},
   "outputs": [],
   "source": [
    "# on pca\n",
    "# TODO tune the learning rate and the iterations (rest should be ok i guess)\n",
    "start_time = time.time()\n",
    "tsne_pca = do_tsne(TSNE(n_components=2, perplexity=50, early_exaggeration=12.0, learning_rate=100, n_iter=5000, random_state=42), df_pca_data)\n",
    "print(\"time elapsed: \" + str(time.time()-start_time))"
   ]
  },
  {
   "cell_type": "code",
   "execution_count": null,
   "metadata": {
    "scrolled": true
   },
   "outputs": [],
   "source": [
    "# plot t-SNE with PCA\n",
    "scatterplot_pointlabels(tsne_pca)\n",
    "plt.title('t-SNE on PCA data')\n",
    "plt.savefig(os.path.join(CONFIG.SVG_PATH, 'tsne_pca_' + target_dataset + '.svg'))\n"
   ]
  },
  {
   "cell_type": "code",
   "execution_count": null,
   "metadata": {},
   "outputs": [],
   "source": [
    "# on raw data\n",
    "# TODO tune the learning rate and the iterations (rest should be ok i guess)\n",
    "# start_time = time.time()\n",
    "# tsne_raw = do_tsne(MulticoreTSNE(n_components=2, perplexity=400, early_exaggeration=12.0, learning_rate=100, n_iter=10000, random_state=42, n_jobs=4), data)\n",
    "# print(\"time elapsed: \" + str(time.time()-start_time))"
   ]
  },
  {
   "cell_type": "code",
   "execution_count": null,
   "metadata": {},
   "outputs": [],
   "source": [
    "# plot t-SNE with raw data\n",
    "# scatterplot_pointlabels(tsne_raw, plot_labels=False)\n",
    "# plt.title('t-SNE on raw data')\n",
    "# scatterplot_pointlabels(tsne_raw)\n",
    "# plt.title('t-SNE on raw data')"
   ]
  },
  {
   "cell_type": "markdown",
   "metadata": {},
   "source": [
    "## Spectral Clustering"
   ]
  },
  {
   "cell_type": "code",
   "execution_count": null,
   "metadata": {},
   "outputs": [],
   "source": [
    "num_clusters = 6"
   ]
  },
  {
   "cell_type": "code",
   "execution_count": null,
   "metadata": {},
   "outputs": [],
   "source": [
    "#labeling points of tnse clusters\n",
    "def label_point(x, y, val, ax):\n",
    "    a = pd.concat({'x': x, 'y': y, 'val': val}, axis=1)\n",
    "    for i, point in a.iterrows():\n",
    "        ax.text(point['x']+.02, point['y'], str(point['val']), fontsize=3, fontproperties=fontprop1)"
   ]
  },
  {
   "cell_type": "code",
   "execution_count": null,
   "metadata": {},
   "outputs": [],
   "source": [
    "#Spectral clustering\n",
    "#For using 'amg' you should install pyamg in you local computer.\n",
    "# Check the component at\n",
    "# https://scikit-learn.org/stable/modules/generated/sklearn.cluster.SpectralClustering.html\n",
    "start_time = time.time()\n",
    "clustering = SpectralClustering(n_clusters=num_clusters, eigen_solver='amg', assign_labels=\"discretize\", \n",
    "                            affinity= 'nearest_neighbors', n_neighbors=6, random_state=42, n_jobs=4).fit(df_data)\n",
    "#clustering = AgglomerativeClustering(n_clusters=num_clusters).fit(data.loc[filtered_columns.index,:])# data, df_pca_data\n",
    "# clustering = KMeans(n_clusters=num_clusters).fit(data.loc[filtered_columns.index,:])# data, df_pca_data\n",
    "print(\"time elapsed: \" + str(time.time()-start_time))\n",
    "cluster_list = np.array(clustering.labels_).tolist()\n",
    "tsne_pca['cluster'] = cluster_list"
   ]
  },
  {
   "cell_type": "code",
   "execution_count": null,
   "metadata": {},
   "outputs": [],
   "source": [
    "print(tsne_pca)\n",
    "tsne_pca.to_csv(os.path.join(CONFIG.CSV_PATH, 'clustered_' + target_dataset + '.csv'), encoding='utf-8-sig')"
   ]
  },
  {
   "cell_type": "code",
   "execution_count": null,
   "metadata": {
    "scrolled": false
   },
   "outputs": [],
   "source": [
    "def plot_spectral_clustering(dataframe, is_selected=False):\n",
    "    # plot spectrac clustering result\n",
    "    # without label\n",
    "    scatterplot_pointlabels(dataframe[['x', 'y']], plot_labels=False)\n",
    "    # better colors\n",
    "    plt.figure(figsize=(13.2,9.6))\n",
    "    color_dict = {v: k for v, k in enumerate(sns.color_palette(\"Paired\", num_clusters))}\n",
    "    sns_plot = sns.scatterplot(x=\"x\", y=\"y\", hue='cluster_id', palette=color_dict, data=dataframe, marker='.', s=128)\n",
    "    plt.savefig('spectralclustering_wordlabel_colors.svg')"
   ]
  },
  {
   "cell_type": "code",
   "execution_count": null,
   "metadata": {},
   "outputs": [],
   "source": [
    "# put clustering info into df\n",
    "df_clustered_spectral = pd.DataFrame({'x': tsne_pca.tsne1.squeeze(), \n",
    "                                      'y': tsne_pca.tsne2.squeeze(), \n",
    "                                      'word': tsne_pca.index.tolist(), \n",
    "                                      'cluster_id': clustering.labels_})\n",
    "# debug prints\n",
    "# print(df_clustered_spectral.shape)\n",
    "print(df_clustered_spectral.dtypes)\n",
    "plot_spectral_clustering(df_clustered_spectral)       \n",
    "# print(df_clustered_spectral.iloc[:10, :])\n",
    "# df_clustered_spectral['cluster_id'].describe() # 30 integer clusters"
   ]
  },
  {
   "cell_type": "code",
   "execution_count": null,
   "metadata": {},
   "outputs": [],
   "source": []
  }
 ],
 "metadata": {
  "kernelspec": {
   "display_name": "Python 3",
   "language": "python",
   "name": "python3"
  },
  "language_info": {
   "codemirror_mode": {
    "name": "ipython",
    "version": 3
   },
   "file_extension": ".py",
   "mimetype": "text/x-python",
   "name": "python",
   "nbconvert_exporter": "python",
   "pygments_lexer": "ipython3",
   "version": "3.7.1"
  }
 },
 "nbformat": 4,
 "nbformat_minor": 2
}
